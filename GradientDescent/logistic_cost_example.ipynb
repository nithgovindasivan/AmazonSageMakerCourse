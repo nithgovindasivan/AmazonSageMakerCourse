{
 "cells": [
  {
   "cell_type": "markdown",
   "metadata": {},
   "source": [
    "<h4>Classification - Gradient Descent Overview</h4>\n",
    "<ul>\n",
    "<li>Predict a binary class as output based on given features.\n",
    "</li>\n",
    "\n",
    "<li>Examples: Do we need to follow up on a customer review? Is this transaction fraudulent or valid one? Are there signs of onset of a medical condition or disease? Is this considered junk food or not?</li>\n",
    "\n",
    "<li>Linear Model. Estimated Target = w<sub>0</sub> + w<sub>1</sub>x<sub>1</sub> \n",
    "+ w<sub>2</sub>x<sub>2</sub> + w<sub>3</sub>x<sub>3</sub> \n",
    "+ … + w<sub>n</sub>x<sub>n</sub><br>\n",
    "where, w is the weight and x is the feature\n",
    "</li>\n",
    "\n",
    "<li><b>Logistic Regression</b>. Estimated Probability = <b>sigmoid</b>(w<sub>0</sub> + w<sub>1</sub>x<sub>1</sub> \n",
    "+ w<sub>2</sub>x<sub>2</sub> + w<sub>3</sub>x<sub>3</sub> \n",
    "+ … + w<sub>n</sub>x<sub>n</sub>)<br>\n",
    "where, w is the weight and x is the feature\n",
    "</li>\n",
    "<li>Linear model output is fed thru a sigmoid/logistic function to produce the probability.</li>\n",
    "<li>Predicted Value: Probability of a binary outcome.  Closer to 1 is positive class, closer to 0 is negative class</li>\n",
    "<li>Algorithm Used: Logistic Regression. Objective is to find the weights w that maximizes separation between the two classes</li>\n",
    "<li>Optimization: Gradient Descent. Seeks to minimize loss/cost so that predicted value is as close to actual as possible</li>\n",
    "<li>Cost/Loss Calculation: Logistic loss function</li>\n",
    "</ul>"
   ]
  },
  {
   "cell_type": "code",
   "execution_count": 1,
   "metadata": {},
   "outputs": [],
   "source": [
    "import numpy as np\n",
    "import pandas as pd\n",
    "import matplotlib.pyplot as plt"
   ]
  },
  {
   "cell_type": "code",
   "execution_count": 2,
   "metadata": {},
   "outputs": [],
   "source": [
    "# Sigmoid or logistic function\n",
    "# For any x, output is bounded between 0 & 1\n",
    "\n",
    "# Binary classifier uses this function to convert the output produced by a linear model\n",
    "#   into a probability between 0 & 1\n",
    "\n",
    "def sigmoid_func(x):\n",
    "    return 1.0/(1 + np.exp(-x))"
   ]
  },
  {
   "cell_type": "code",
   "execution_count": 3,
   "metadata": {},
   "outputs": [
    {
     "name": "stdout",
     "output_type": "stream",
     "text": [
      "Sigmoid(10)\t=   0.99995\n",
      "Sigmoid(0)\t=   0.50000\n",
      "Sigmoid(-10)\t=   0.00005\n"
     ]
    }
   ],
   "source": [
    "print('Sigmoid({0})\\t={1:10.5f}'.format(10, sigmoid_func(10)))\n",
    "print('Sigmoid({0})\\t={1:10.5f}'.format(0, sigmoid_func(0)))\n",
    "print('Sigmoid({0})\\t={1:10.5f}'.format(-10, sigmoid_func(-10)))"
   ]
  },
  {
   "cell_type": "code",
   "execution_count": 4,
   "metadata": {},
   "outputs": [],
   "source": [
    "# Sigmoid function example\n",
    "x = pd.Series(np.arange(-8,8,0.5))\n",
    "y = x.map(sigmoid_func)"
   ]
  },
  {
   "cell_type": "code",
   "execution_count": 5,
   "metadata": {},
   "outputs": [
    {
     "name": "stdout",
     "output_type": "stream",
     "text": [
      "0   -8.0\n",
      "1   -7.5\n",
      "2   -7.0\n",
      "3   -6.5\n",
      "4   -6.0\n",
      "dtype: float64\n",
      "27    5.5\n",
      "28    6.0\n",
      "29    6.5\n",
      "30    7.0\n",
      "31    7.5\n",
      "dtype: float64\n"
     ]
    }
   ],
   "source": [
    "print (x.head())\n",
    "print(x.tail())"
   ]
  },
  {
   "cell_type": "code",
   "execution_count": 6,
   "metadata": {},
   "outputs": [
    {
     "data": {
      "image/png": "[encoded data removed]",
      "text/plain": [
       "<Figure size 432x288 with 1 Axes>"
      ]
     },
     "metadata": {
      "needs_background": "light"
     },
     "output_type": "display_data"
    }
   ],
   "source": [
    "plt.plot(x,y)\n",
    "plt.ylim((-0.2,1.2))\n",
    "plt.xlabel('input')\n",
    "plt.ylabel('sigmoid output')\n",
    "plt.grid(True)\n",
    "\n",
    "plt.axvline(x=0,ymin=0,ymax=1, ls='dashed',alpha=0.6)\n",
    "plt.axhline(y=0.5,xmin=0,xmax=10, ls='dashed',alpha=0.6)\n",
    "plt.title('Sigmoid')\n",
    "plt.show()"
   ]
  },
  {
   "cell_type": "markdown",
   "metadata": {},
   "source": [
    "Example Dataset - Hours spent and Exam Results: \n",
    "https://en.wikipedia.org/wiki/Logistic_regression"
   ]
  },
  {
   "cell_type": "markdown",
   "metadata": {},
   "source": [
    "Sigmoid function produces an output between 0 and 1 no.  Input closer to 0 produces and output of 0.5 probability.  Negative input produces value less than 0.5 while positive input produces value greater than 0.5"
   ]
  },
  {
   "cell_type": "code",
   "execution_count": 7,
   "metadata": {},
   "outputs": [],
   "source": [
    "data_path = 'HoursExamResult.csv'"
   ]
  },
  {
   "cell_type": "code",
   "execution_count": 8,
   "metadata": {},
   "outputs": [],
   "source": [
    "df = pd.read_csv(data_path)"
   ]
  },
  {
   "cell_type": "markdown",
   "metadata": {},
   "source": [
    "Input Feature: Hours<br>\n",
    "Output: Pass (1 = pass, 0 = fail)"
   ]
  },
  {
   "cell_type": "code",
   "execution_count": 9,
   "metadata": {},
   "outputs": [
    {
     "data": {
      "text/html": [
       "<div>\n",
       "<style scoped>\n",
       "    .dataframe tbody tr th:only-of-type {\n",
       "        vertical-align: middle;\n",
       "    }\n",
       "\n",
       "    .dataframe tbody tr th {\n",
       "        vertical-align: top;\n",
       "    }\n",
       "\n",
       "    .dataframe thead th {\n",
       "        text-align: right;\n",
       "    }\n",
       "</style>\n",
       "<table border=\"1\" class=\"dataframe\">\n",
       "  <thead>\n",
       "    <tr style=\"text-align: right;\">\n",
       "      <th></th>\n",
       "      <th>Hours</th>\n",
       "      <th>Pass</th>\n",
       "    </tr>\n",
       "  </thead>\n",
       "  <tbody>\n",
       "    <tr>\n",
       "      <th>0</th>\n",
       "      <td>0.50</td>\n",
       "      <td>0</td>\n",
       "    </tr>\n",
       "    <tr>\n",
       "      <th>1</th>\n",
       "      <td>0.75</td>\n",
       "      <td>0</td>\n",
       "    </tr>\n",
       "    <tr>\n",
       "      <th>2</th>\n",
       "      <td>1.00</td>\n",
       "      <td>0</td>\n",
       "    </tr>\n",
       "    <tr>\n",
       "      <th>3</th>\n",
       "      <td>1.25</td>\n",
       "      <td>0</td>\n",
       "    </tr>\n",
       "    <tr>\n",
       "      <th>4</th>\n",
       "      <td>1.50</td>\n",
       "      <td>0</td>\n",
       "    </tr>\n",
       "  </tbody>\n",
       "</table>\n",
       "</div>"
      ],
      "text/plain": [
       "   Hours  Pass\n",
       "0   0.50     0\n",
       "1   0.75     0\n",
       "2   1.00     0\n",
       "3   1.25     0\n",
       "4   1.50     0"
      ]
     },
     "execution_count": 9,
     "metadata": {},
     "output_type": "execute_result"
    }
   ],
   "source": [
    "df.head()"
   ]
  },
  {
   "cell_type": "code",
   "execution_count": 10,
   "metadata": {},
   "outputs": [],
   "source": [
    "# Logistic Regression\n",
    "import numpy as np\n",
    "from sklearn.linear_model import LogisticRegression"
   ]
  },
  {
   "cell_type": "code",
   "execution_count": 11,
   "metadata": {},
   "outputs": [],
   "source": [
    "classifier = LogisticRegression(solver='liblinear')"
   ]
  },
  {
   "cell_type": "code",
   "execution_count": 12,
   "metadata": {},
   "outputs": [
    {
     "data": {
      "text/plain": [
       "LogisticRegression(C=1.0, class_weight=None, dual=False, fit_intercept=True,\n",
       "          intercept_scaling=1, max_iter=100, multi_class='warn',\n",
       "          n_jobs=None, penalty='l2', random_state=None, solver='liblinear',\n",
       "          tol=0.0001, verbose=0, warm_start=False)"
      ]
     },
     "execution_count": 12,
     "metadata": {},
     "output_type": "execute_result"
    }
   ],
   "source": [
    "classifier.fit(df[['Hours']],df['Pass'])"
   ]
  },
  {
   "cell_type": "code",
   "execution_count": 13,
   "metadata": {},
   "outputs": [
    {
     "data": {
      "text/plain": [
       "(array([[0.61126347]]), array([-1.36550178]))"
      ]
     },
     "execution_count": 13,
     "metadata": {},
     "output_type": "execute_result"
    }
   ],
   "source": [
    "classifier.coef_, classifier.intercept_"
   ]
  },
  {
   "cell_type": "code",
   "execution_count": 14,
   "metadata": {},
   "outputs": [],
   "source": [
    "# weights given in the wiki web page - other option is compute weight using logistic regression\n",
    "# True Function\n",
    "def linear_model(x):\n",
    "    return 1.5046*x - 4.0777"
   ]
  },
  {
   "cell_type": "code",
   "execution_count": 15,
   "metadata": {},
   "outputs": [],
   "source": [
    "# Estimate predicted value for a given weight\n",
    "def predicted_at_weight(weight0, weight1, x):\n",
    "    return weight1*x + weight0"
   ]
  },
  {
   "cell_type": "code",
   "execution_count": 16,
   "metadata": {},
   "outputs": [],
   "source": [
    "# Generate probability by running feature thru the linear model and then thru sigmoid function\n",
    "y_predicted = sigmoid_func(linear_model(df.Hours))"
   ]
  },
  {
   "cell_type": "code",
   "execution_count": 17,
   "metadata": {},
   "outputs": [
    {
     "data": {
      "text/plain": [
       "0    -3.32540\n",
       "1    -2.94925\n",
       "2    -2.57310\n",
       "3    -2.19695\n",
       "4    -1.82080\n",
       "5    -1.44465\n",
       "6    -1.44465\n",
       "7    -1.06850\n",
       "8    -0.69235\n",
       "9    -0.31620\n",
       "10    0.05995\n",
       "11    0.43610\n",
       "12    0.81225\n",
       "13    1.18840\n",
       "14    1.94070\n",
       "15    2.31685\n",
       "16    2.69300\n",
       "17    3.06915\n",
       "18    3.44530\n",
       "19    4.19760\n",
       "Name: Hours, dtype: float64"
      ]
     },
     "execution_count": 17,
     "metadata": {},
     "output_type": "execute_result"
    }
   ],
   "source": [
    "# Output produced by linear classifier\n",
    "linear_model(df.Hours)"
   ]
  },
  {
   "cell_type": "code",
   "execution_count": 18,
   "metadata": {},
   "outputs": [
    {
     "data": {
      "text/plain": [
       "0     0.034710\n",
       "1     0.049772\n",
       "2     0.070890\n",
       "3     0.100025\n",
       "4     0.139338\n",
       "5     0.190826\n",
       "6     0.190826\n",
       "7     0.255688\n",
       "8     0.333511\n",
       "9     0.421602\n",
       "10    0.514983\n",
       "11    0.607329\n",
       "12    0.692589\n",
       "13    0.766455\n",
       "14    0.874429\n",
       "15    0.910263\n",
       "16    0.936612\n",
       "17    0.955602\n",
       "18    0.969091\n",
       "19    0.985191\n",
       "Name: Hours, dtype: float64"
      ]
     },
     "execution_count": 18,
     "metadata": {},
     "output_type": "execute_result"
    }
   ],
   "source": [
    "# Convert the Output to a probability\n",
    "sigmoid_func(linear_model(df.Hours))"
   ]
  },
  {
   "cell_type": "code",
   "execution_count": 19,
   "metadata": {},
   "outputs": [
    {
     "data": {
      "image/png": "[encoded data removed]",
      "text/plain": [
       "<Figure size 432x288 with 1 Axes>"
      ]
     },
     "metadata": {
      "needs_background": "light"
     },
     "output_type": "display_data"
    }
   ],
   "source": [
    "plt.plot(df.Hours,y_predicted,label='probability')\n",
    "plt.scatter(x=df[df.Pass==1].Hours,y=df[df.Pass==1].Pass, color='g', label='pass')\n",
    "plt.scatter(x=df[df.Pass==0].Hours,y=df[df.Pass==0].Pass, color='r',label='fail')\n",
    "\n",
    "plt.title('Pass Probability Based on Hours Spent Studying')\n",
    "plt.xlabel('Hours')\n",
    "plt.ylabel('Pass Probability')\n",
    "\n",
    "plt.axvline(x=2.75,ymin=0,ymax=1,ls='dashed',alpha=0.6)\n",
    "plt.axhline(y=0.5,xmin=0,xmax=6, label='cutoff at 0.5',ls='dashed',alpha=0.6)\n",
    "\n",
    "plt.grid(True)\n",
    "plt.xlim((0,7))\n",
    "plt.ylim((-0.2,1.2))\n",
    "plt.legend()\n",
    "plt.show()"
   ]
  },
  {
   "cell_type": "markdown",
   "metadata": {},
   "source": [
    "At 2.7 hours of study time, we hit 0.5 probability.  So, any student who spent 2.7 hours or more would have a higher probability of passing the exam.\n",
    "\n",
    "In the above example,<br>\n",
    "1. Top right quadrant = true positive. pass got classified correctly as pass\n",
    "2. Bottom left quadrant = true negative. fail got classified correctly as fail\n",
    "3. Top left quadrant = false negative. pass got classified as fail\n",
    "4. Bottom right quadrant = false positive. fail got classified as pass\n",
    "\n",
    "Cutoff can be adjusted; instead of 0.5, cutoff could be established at 0.4 or 0.6 depending on the nature of problem"
   ]
  },
  {
   "cell_type": "code",
   "execution_count": 20,
   "metadata": {},
   "outputs": [],
   "source": [
    "# True Function => 1.5046*x - 4.0777 \n",
    "# Keep w0 constant and vary weight for hours\n",
    "w0 = [-4,-4,-4]\n",
    "w1 = [0.5,1,2]\n",
    "y_predicted_wt = {}\n",
    "\n",
    "for i in range(len(w1)):\n",
    "    y_predicted_wt['{0},{1}'.format(w0[i],w1[i])] \\\n",
    "        = sigmoid_func(predicted_at_weight(w0[i],w1[i],df.Hours))"
   ]
  },
  {
   "cell_type": "code",
   "execution_count": 21,
   "metadata": {},
   "outputs": [
    {
     "data": {
      "image/png": "[encoded data removed]",
      "text/plain": [
       "<Figure size 432x288 with 1 Axes>"
      ]
     },
     "metadata": {
      "needs_background": "light"
     },
     "output_type": "display_data"
    }
   ],
   "source": [
    "plt.plot(df.Hours, y_predicted, label='ideal')\n",
    "\n",
    "for w in y_predicted_wt.keys():\n",
    "    plt.plot(df.Hours,y_predicted_wt[w],label=w)\n",
    "    \n",
    "plt.xlim((0,6))\n",
    "plt.ylim((-0.2,1.2))\n",
    "plt.axhline(y=0.5,xmin=0,xmax=6, color = 'b', ls='dashed')\n",
    "plt.xlabel('Hours')\n",
    "plt.ylabel('Pass Probability')\n",
    "plt.title('Predicted Probability at different weights')\n",
    "plt.legend()\n",
    "plt.grid(True)\n",
    "plt.show()"
   ]
  },
  {
   "cell_type": "markdown",
   "metadata": {},
   "source": [
    "ideal curve = gives a pass probability of 0.5 at around 2.75 hours of study  \n",
    "w(-4,0.5) curve = fails everyone.  it gives a probability of 0.2 for 5.5 hours of study  \n",
    "w(-4,1) curve = gives a pass probability of 0.5 at around 4 hours of study  \n",
    "w(-4,2) curve = give a pass probability of 0.5 at around 2 hours of study  \n",
    "Each of these curves have a different loss  "
   ]
  },
  {
   "cell_type": "markdown",
   "metadata": {},
   "source": [
    "<h4>Logistic Loss</h4>"
   ]
  },
  {
   "cell_type": "code",
   "execution_count": 22,
   "metadata": {},
   "outputs": [],
   "source": [
    "# Logistic Loss\n",
    "\n",
    "#   Positive Class Loss = -log(predicted_y)     ### For positive samples\n",
    "#   Negative Class Loss = -log(1-predicted_y)   ### For negative samples\n",
    "\n",
    "#   Logistic Loss = Positive Class Loss + Negative Class Loss\n",
    "\n",
    "def compute_logisitic_cost(y_actual, y_predicted):    \n",
    "    # For loss computation, we need to separate postive and negative classes\n",
    "    #  loss calculation is slightly different for positive and negative class\n",
    "    \n",
    "    positive_class = y_predicted[y_actual==1]\n",
    "    negative_class = y_predicted[y_actual == 0]\n",
    "    \n",
    "    positive_cost = -np.log(positive_class).sum()\n",
    "    negative_cost = -np.log(1 - negative_class).sum()\n",
    "    \n",
    "    return positive_cost + negative_cost"
   ]
  },
  {
   "cell_type": "code",
   "execution_count": 23,
   "metadata": {},
   "outputs": [
    {
     "name": "stdout",
     "output_type": "stream",
     "text": [
      "Loss: 7.824\n"
     ]
    }
   ],
   "source": [
    "# Example 1 - Predicted value is exact opposite of actual\n",
    "# Loss should be very high\n",
    "actual = pd.Series([1,\n",
    "                    0,\n",
    "                    1,\n",
    "                    0])\n",
    "\n",
    "predicted = pd.Series([0.1,\n",
    "                       0.9,\n",
    "                       0.2,\n",
    "                       0.8])\n",
    "print('Loss: {0:0.3f}'.format(compute_logisitic_cost(actual, predicted)))"
   ]
  },
  {
   "cell_type": "code",
   "execution_count": 24,
   "metadata": {},
   "outputs": [
    {
     "name": "stdout",
     "output_type": "stream",
     "text": [
      "Loss: 0.603\n"
     ]
    }
   ],
   "source": [
    "# Example 2 - Predicted value is close to actual\n",
    "# Loss should be very low\n",
    "actual = pd.Series([1,\n",
    "                    0,\n",
    "                    1,\n",
    "                    0])\n",
    "\n",
    "predicted = pd.Series([0.8,\n",
    "                       0.1,\n",
    "                       0.95,\n",
    "                       0.2])\n",
    "\n",
    "print('Loss: {0:0.3f}'.format(compute_logisitic_cost(actual, predicted)))"
   ]
  },
  {
   "cell_type": "code",
   "execution_count": 25,
   "metadata": {},
   "outputs": [
    {
     "name": "stdout",
     "output_type": "stream",
     "text": [
      "Loss: 2.251\n"
     ]
    }
   ],
   "source": [
    "# Example 3 - Predicted value is mid-point\n",
    "\n",
    "actual = pd.Series([1,\n",
    "                    0,\n",
    "                    1,\n",
    "                    0])\n",
    "\n",
    "predicted = pd.Series([0.58,\n",
    "                       0.4,\n",
    "                       0.55,\n",
    "                       0.45])\n",
    "\n",
    "print('Loss: {0:0.3f}'.format(compute_logisitic_cost(actual, predicted)))"
   ]
  },
  {
   "cell_type": "code",
   "execution_count": 26,
   "metadata": {},
   "outputs": [
    {
     "name": "stdout",
     "output_type": "stream",
     "text": [
      "Weight:-4,0.5\tLoss: 22.80\n",
      "Weight:-4,1\tLoss: 11.02\n",
      "Weight:-4,2\tLoss: 10.20\n"
     ]
    }
   ],
   "source": [
    "# Compute loss at different weights\n",
    "for w in y_predicted_wt.keys():\n",
    "    logistic_loss = compute_logisitic_cost(df.Pass, y_predicted_wt[w])    \n",
    "    print('Weight:{0}\\tLoss: {1:5.2f}'.format(w, logistic_loss))"
   ]
  },
  {
   "cell_type": "markdown",
   "metadata": {},
   "source": [
    "<h4>Plot Loss at different weights for x</h4>"
   ]
  },
  {
   "cell_type": "code",
   "execution_count": 27,
   "metadata": {},
   "outputs": [],
   "source": [
    "# Cost Function\n",
    "z = pd.Series(np.linspace(0.0001,0.999999,100))\n",
    "ypositive = -np.log(z)\n",
    "ynegative = -np.log(1-z)"
   ]
  },
  {
   "cell_type": "code",
   "execution_count": 28,
   "metadata": {},
   "outputs": [
    {
     "data": {
      "image/png": "[encoded data removed]",
      "text/plain": [
       "<Figure size 432x288 with 1 Axes>"
      ]
     },
     "metadata": {
      "needs_background": "light"
     },
     "output_type": "display_data"
    }
   ],
   "source": [
    "plt.plot(z,ypositive, label='Loss curve for positive example')\n",
    "plt.plot(z,ynegative, label='Loss curve for negative example')\n",
    "plt.ylabel('Loss')\n",
    "plt.xlabel('Predicted Probability')\n",
    "plt.ylim((0,5))\n",
    "plt.title('Loss Curve')\n",
    "plt.legend()\n",
    "plt.show()"
   ]
  },
  {
   "cell_type": "markdown",
   "metadata": {},
   "source": [
    "Cost function is a log curve<br>\n",
    "1. positive example correctly classified as positive has a lower loss\n",
    "2. positive example incorrectly classified as negative has a higher loss\n",
    "3. Negative example correctly classified as negative has a lower loss\n",
    "4. Negative example incorrectly classifed as positive has a higher loss "
   ]
  },
  {
   "cell_type": "code",
   "execution_count": 29,
   "metadata": {},
   "outputs": [],
   "source": [
    "# Test with different weight for hours\n",
    "weight = pd.Series(np.linspace(-1.5,5,num=100))\n",
    "loss_at_wt = []\n",
    "for w1 in weight:\n",
    "    y_predicted_wt = sigmoid_func(predicted_at_weight(-4.0777, w1,  df.Hours))\n",
    "    \n",
    "    # Compute loss\n",
    "    loss_at_wt.append(compute_logisitic_cost(df.Pass, pd.Series(y_predicted_wt)))"
   ]
  },
  {
   "cell_type": "code",
   "execution_count": 30,
   "metadata": {},
   "outputs": [
    {
     "data": {
      "text/plain": [
       "(8.032272265372923, 97.8036875356258)"
      ]
     },
     "execution_count": 30,
     "metadata": {},
     "output_type": "execute_result"
    }
   ],
   "source": [
    "min(loss_at_wt),max(loss_at_wt)"
   ]
  },
  {
   "cell_type": "code",
   "execution_count": 31,
   "metadata": {},
   "outputs": [
    {
     "data": {
      "image/png": "[encoded data removed]",
      "text/plain": [
       "<Figure size 432x288 with 1 Axes>"
      ]
     },
     "metadata": {
      "needs_background": "light"
     },
     "output_type": "display_data"
    }
   ],
   "source": [
    "plt.plot(weight, loss_at_wt)\n",
    "plt.xlabel('Weight for Hour feature')\n",
    "plt.ylabel('Loss')\n",
    "plt.grid(True)\n",
    "plt.title('Loss Curve - Loss at different weight')\n",
    "plt.show()"
   ]
  },
  {
   "cell_type": "markdown",
   "metadata": {
    "collapsed": true
   },
   "source": [
    "<h4>Summary</h4>\n",
    "<p><b>Binary Classifier</b> Predicts positive class probability of an observation </p>\n",
    "<p><b>Logistic or Sigmod function</b> has an important property where output is between 0 and 1 for any input.  This output is used by binary classifiers as a probability of positive class</p>\n",
    "\n",
    "<p><b>Logistic Loss Function</b> is parabolic in nature. It has an important property of not only telling us the loss at a given weight, but also tells us which way to go to minimize loss</p>\n",
    "\n",
    "<h4>Gradient Descent</h4>\n",
    "Gradient Descent optimization computes the loss and slope, then adjusts the weights of all the features.<br>\n",
    "It iterates this process until it finds the optimal weight.<br>\n",
    "There are three flavors of Gradient descent:<br>\n",
    "\n",
    "<h4>Batch Gradient Descent</h4>\n",
    "Batch gradient descent computes loss for all examples in the training set and then adjusts the weight<br>\n",
    "It repeats this process for every iteration.<br>\n",
    "This process can be slow to converge when you have a large training data set<br>\n",
    "\n",
    "\n",
    "<h4>Stochastic Gradient Descent</h4>\n",
    "With Stochastic Gradient Descent, the algorithm computes loss for the next training example and immediately adjusts the weights.  This approach can help in converging to optimal weights for large data sets.<br>\n",
    "However, one problem with this approach is algorithm is adjusting weights based on a single example [our end objective is to find weight that works for all training examples and not for the immediate example], and this can result in wild fluctuation in weights.<br>\n",
    "\n",
    "\n",
    "<h4>Mini-Batch Gradient Descent</h4>\n",
    "Mini-batch Gradient descent combines benefit of Stochastic and Batch Gradient descent.<br>\n",
    "It adjusts the weight by testing few samples. The number of samples is defined by mini-batch size, typically around 128.<br>\n",
    "The mini-batch approach can be used to compute loss in parallel.<br>\n",
    "This technique is prevalent in deep learning and other algorithms.<br>\n",
    "\n"
   ]
  },
  {
   "cell_type": "code",
   "execution_count": null,
   "metadata": {},
   "outputs": [],
   "source": []
  }
 ],
 "metadata": {
  "kernelspec": {
   "display_name": "Python 3",
   "language": "python",
   "name": "python3"
  },
  "language_info": {
   "codemirror_mode": {
    "name": "ipython",
    "version": 3
   },
   "file_extension": ".py",
   "mimetype": "text/x-python",
   "name": "python",
   "nbconvert_exporter": "python",
   "pygments_lexer": "ipython3",
   "version": "3.7.1"
  }
 },
 "nbformat": 4,
 "nbformat_minor": 1
}
